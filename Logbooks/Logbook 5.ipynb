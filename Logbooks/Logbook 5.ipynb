{
 "cells": [
  {
   "cell_type": "code",
   "execution_count": 1,
   "id": "b32c0c84",
   "metadata": {},
   "outputs": [],
   "source": [
    "import numpy as np\n",
    "import matplotlib.pyplot as plt\n",
    "%matplotlib inline"
   ]
  },
  {
   "cell_type": "markdown",
   "id": "36bcc41b",
   "metadata": {},
   "source": [
    "# Logbook 5: Danny Phan (21001091)\n",
    "\n",
    "## Klemperer Rosettes using RK4 (09/03/2023)\n",
    "\n",
    "The velocity verlet attempt was looking pretty hopeless. The paper lists the equations of motion for the Rhombus configuration, and so I'll attempt to use that in conjunction with the RK4 algorithm and the RHS function to see if this method bears any fruit.\n",
    "\n",
    "For reference, the force acting on $m_1$ is:\n",
    "\n",
    "$$\n",
    "G m_1 \\left[ \\frac{m1}{(2r_1)^2} + \\frac{2m_2 r_1}{(r_1^2 + r_2^2)^{\\frac{3}{2}}} + \\frac{m_0}{r_1^2}\\right] = m_1 \\Omega^2 r_1 = m_1a\n",
    "$$\n",
    "\n",
    "The force acting on a mass $m_2$ is the same formula but with the subscripts swapped\n",
    "\n",
    "$$\n",
    "G m_2 \\left[ \\frac{m2}{(2r_2)^2} + \\frac{2m_1 r_2}{(r_1^2 + r_2^2)^{\\frac{3}{2}}} + \\frac{m_0}{r_2^2}\\right] = m_2 \\Omega^2 r_2 = m_2a\n",
    "$$\n",
    "\n",
    "The orbital angular velocity $\\Omega$ is postulated in the paper to be the same for both sets, the equation for $\\Omega$ is\n",
    "\n",
    "$$\n",
    "\\Omega^2 = (m_0 + kM) \\frac{G}{r^3} \n",
    "$$\n",
    "\n",
    "where $G$ is the gravitational constant, $r$ is the distance of each “planet” from the center, $m_0$ is the mass of the star, and $M = nm$ is the total mass of all the $n$ planets of mass m each. The constant $k$ is, according to the geometry of a regular n-sided polygon.\n",
    "\n",
    "There are given numerical values for $k$, however I believe it would make more sense to use the equation for this to get the initial velocities.\n",
    "\n",
    "$$\n",
    "k = \\frac{1}{2n} \\left[\\frac{1}{2} + \\sum_{i=1}^{i=\\frac{1}{2}(n-2)} \\cos\\left(\\frac{i\\pi}{n}\\right) \\right] \\, \\, \\, \\text{(n even)}\n",
    "$$\n",
    "\n",
    "$$\n",
    "k = \\frac{1}{2n}\\sum_{i=1}^{i=\\frac{1}{2}(n-1)} \\cos\\left(\\frac{i\\pi}{n}\\right)  \\, \\, \\, \\text{(n odd)}\n",
    "$$"
   ]
  },
  {
   "cell_type": "code",
   "execution_count": null,
   "id": "6813ea65",
   "metadata": {},
   "outputs": [],
   "source": []
  }
 ],
 "metadata": {
  "kernelspec": {
   "display_name": "Python 3",
   "language": "python",
   "name": "python3"
  },
  "language_info": {
   "codemirror_mode": {
    "name": "ipython",
    "version": 3
   },
   "file_extension": ".py",
   "mimetype": "text/x-python",
   "name": "python",
   "nbconvert_exporter": "python",
   "pygments_lexer": "ipython3",
   "version": "3.8.8"
  }
 },
 "nbformat": 4,
 "nbformat_minor": 5
}
