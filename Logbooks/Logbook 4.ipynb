{
 "cells": [
  {
   "cell_type": "code",
   "execution_count": 6,
   "id": "2928d82b",
   "metadata": {},
   "outputs": [],
   "source": [
    "import numpy as np\n",
    "import matplotlib.pyplot as plt\n",
    "%matplotlib inline"
   ]
  },
  {
   "cell_type": "markdown",
   "id": "5c654b2e",
   "metadata": {},
   "source": [
    "# Logbook 4: Danny Phan (21001091)\n",
    "\n",
    "## Klemperer Rosettes (08/03/2023)\n",
    "\n",
    "A Klemperer Rosette is a peculiar gravitational system of an even number of alternating heavier and lighter moons where all the light moons and all the heavy moons have the same set mass. All of these moons orbit around a common central planet.\n",
    "\n",
    "When these moons are placed at the corners of regular polygons, interesting orbits arise.\n",
    "\n",
    "The orbits I want to look at is described in [Klemperer's original article](https://articles.adsabs.harvard.edu/cgi-bin/nph-iarticle_query?1962AJ.....67..162K&defaultprint=YES&filetype=.pdf), for this logbook, I will try and replicate the simplest of these, the Rhombic Configuration.\n",
    "\n",
    "For the Rhombic configuration, we have the following equation of motion\n",
    "\n",
    "$$\n",
    "G \\left[\\frac{m_1}{(2r_1)^2} + \\frac{2m_2r_1}{(r_1^2+r_2^2)^\\frac{3}{2}} \\right] = \\Omega^2 r_1\n",
    "$$\n",
    "\n",
    "\n",
    "Where G is the gravitational constant, r is the distance of each planet to the center, $m_0$ is the mass of the sun.\n",
    "\n",
    "I want to simulate rhombic, hexagonal, and octagonal rosettes, so I will make a logbook for each one of these. This logbook will be on the Rhombic configuration of the Klemperer Rosettes.\n",
    "\n",
    "For the rhombus, the mass ratio $\\mu = m_2 / m_1$ and the radius ratio $\\rho = r_2/r_1$ have the following relation\n",
    "\n",
    "$$\n",
    "\\mu = \\frac{8-(1+\\rho^2)^\\frac{3}{2} [1+4\\mu_0(1-1/\\rho^3)]}{8-(1+1/\\rho^2)^\\frac{3}{2}}\n",
    "$$\n",
    "\n",
    "where $\\mu_0 = m_0/m_1$ where $m_0$ is the mass of the planet.\n",
    "\n",
    "\n",
    "The moons are distributed on a $60^\\circ$, $120^\\circ$ rhombus whose short diagonal is equal to its sidelength, the smaller masses are at the furthest distance.\n",
    "\n",
    "## No progress (08/03/2023)\n",
    "\n",
    "A few hours later... and my orbits still don't work. I'm certain it's because my initial velocities and positions aren't correct but the paper written on this subject is unhelpful in providing values beyond the mass and radius ratios.\n",
    "\n",
    "I might reattempt this using the Runge-Kutta 4 method, since I have equations of motion to describe these objects.\n",
    "\n",
    "I will leave my code here for now as a record of this attempt. I may or may not come back to this later. "
   ]
  },
  {
   "cell_type": "code",
   "execution_count": 10,
   "id": "7311597c",
   "metadata": {},
   "outputs": [],
   "source": [
    "# Parameters\n",
    "\n",
    "m0 = 1000\n",
    "m1 = 0.01\n",
    "m2 = 2.0\n",
    "m3 = 0.01\n",
    "\n",
    "N = 120000\n",
    "\n",
    "R0 = np.zeros((N, 2))\n",
    "R1 = np.zeros((N, 2))\n",
    "R2 = np.zeros((N, 2))\n",
    "R3 = np.zeros((N, 2))\n",
    "\n",
    "V0 = np.zeros((N, 2))\n",
    "V1 = np.zeros((N, 2))\n",
    "V2 = np.zeros((N, 2))\n",
    "V3 = np.zeros((N, 2))\n",
    "\n",
    "R0[0] = np.array([0,0])\n",
    "V0[0] = np.array([0,0])\n",
    "\n",
    "R1[0] = np.array([5,8.66])\n",
    "V1[0] = np.array([-8.66,5])\n",
    "\n",
    "R2[0] = np.array([10,0])\n",
    "V2[0] = np.array([0,10])\n",
    "\n",
    "R3[0] = np.array([5,-8.66])\n",
    "V3[0] = np.array([8.66,5])"
   ]
  },
  {
   "cell_type": "code",
   "execution_count": 11,
   "id": "30493652",
   "metadata": {},
   "outputs": [
    {
     "data": {
      "text/plain": [
       "<matplotlib.legend.Legend at 0x26a3cff7790>"
      ]
     },
     "execution_count": 11,
     "metadata": {},
     "output_type": "execute_result"
    },
    {
     "data": {
      "image/png": "[encoded data removed]",
      "text/plain": [
       "<Figure size 432x288 with 1 Axes>"
      ]
     },
     "metadata": {
      "needs_background": "light"
     },
     "output_type": "display_data"
    }
   ],
   "source": [
    "plt.plot(R0[0,0], R0[0,1], 'bo', label = r\"$m_0$\", color = \"orange\")\n",
    "plt.plot(R1[0,0], R1[0,1], 'bo', label = r\"$m_1$\", color = \"blue\")\n",
    "plt.plot(R2[0,0], R2[0,1], 'bo', label = r\"$m_2$\", color = \"green\")\n",
    "plt.plot(R3[0,0], R3[0,1], 'bo', label = r\"$m_3$\", color = \"red\")\n",
    "\n",
    "plt.legend()"
   ]
  },
  {
   "cell_type": "code",
   "execution_count": 12,
   "id": "8ae25f44",
   "metadata": {},
   "outputs": [],
   "source": [
    "def force(m1, m2, r1, r2):\n",
    "    \"\"\"\n",
    "    Returns the force acting on m1 due to m2\n",
    "    inputs:\n",
    "    m1    mass of body 1\n",
    "    m2    mass of body 2\n",
    "    r1    radius of body 1\n",
    "    r2    radius of body 2\n",
    "    outputs:\n",
    "    f     the force acting on m1 due to m2  \n",
    "    \"\"\"\n",
    "   \n",
    "    r_12 = r2 - r1\n",
    "   \n",
    "    r_12_mag = np.linalg.norm(r_12) ** 3\n",
    "    \n",
    "    f = (m1 * m2 * r_12) / r_12_mag\n",
    "    return f"
   ]
  },
  {
   "cell_type": "code",
   "execution_count": 14,
   "id": "62db740d",
   "metadata": {},
   "outputs": [
    {
     "name": "stderr",
     "output_type": "stream",
     "text": [
      "<ipython-input-12-b8966d7a8e06>:17: RuntimeWarning: invalid value encountered in true_divide\n",
      "  f = (m1 * m2 * r_12) / r_12_mag\n"
     ]
    },
    {
     "name": "stdout",
     "output_type": "stream",
     "text": [
      "Wall time: 29.2 s\n"
     ]
    }
   ],
   "source": [
    "%%time\n",
    "\n",
    "dt = 1e-4\n",
    "\n",
    "for i in range(N - 1):\n",
    "    f1 =  force(m1, m0, R1[i], R0[i]) + force(m1, m2, R1[i], R2[i]) + force(m1, m3, R1[i], R3[i]) \n",
    "    f2 =  force(m2, m0, R2[i], R0[i]) + force(m2, m1, R2[i], R1[i]) + force(m2, m3, R2[i], R3[i]) \n",
    "    f3 =  force(m3, m0, R3[i], R0[i]) + force(m3, m2, R3[i], R2[i]) + force(m3, m1, R3[i], R1[i]) \n",
    "      \n",
    "    F1 =  force(m1, m0, R1[i+1], R0[i+1]) + force(m1, m2, R1[i+1], R2[i+1]) + force(m1, m3, R1[i+1], R3[i+1]) \n",
    "    F2 =  force(m2, m0, R2[i+1], R0[i+1]) + force(m2, m1, R2[i+1], R1[i+1]) + force(m2, m3, R2[i+1], R3[i+1]) \n",
    "    F3 =  force(m3, m0, R3[i+1], R0[i+1]) + force(m3, m2, R3[i+1], R2[i+1]) + force(m3, m1, R3[i+1], R1[i+1])   \n",
    "    \n",
    "    R1[i+1] = R1[i] + dt * V1[i] + dt**2 * f1/(2*m1)    \n",
    "    R2[i+1] = R2[i] + dt * V2[i] + dt**2 * f2/(2*m2)\n",
    "    R3[i+1] = R3[i] + dt * V3[i] + dt**2 * f3/(2*m3)\n",
    "    \n",
    "    V1[i+1] = V1[i] + dt * (f1+F1) / (2*m1)\n",
    "    V2[i+1] = V2[i] + dt * (f2+F2) / (2*m2)\n",
    "    V3[i+1] = V3[i] + dt * (f3+F3) / (2*m3)\n",
    "   "
   ]
  },
  {
   "cell_type": "markdown",
   "id": "2b6e750f",
   "metadata": {},
   "source": [
    "I keep getting this error! My initial conditions must be wrong!"
   ]
  },
  {
   "cell_type": "code",
   "execution_count": 16,
   "id": "1a719fd2",
   "metadata": {},
   "outputs": [
    {
     "data": {
      "text/plain": [
       "<matplotlib.legend.Legend at 0x26a3cb98820>"
      ]
     },
     "execution_count": 16,
     "metadata": {},
     "output_type": "execute_result"
    },
    {
     "data": {
      "image/png": "[encoded data removed]",
      "text/plain": [
       "<Figure size 720x720 with 1 Axes>"
      ]
     },
     "metadata": {
      "needs_background": "light"
     },
     "output_type": "display_data"
    }
   ],
   "source": [
    "plt.figure(figsize = (10,10))\n",
    "\n",
    "plt.plot(R0[:,0], R0[:,1], label = r\"$m_0$ orbit\", color = \"orange\")\n",
    "plt.plot(R1[:,0], R1[:,1], label = r\"$m_1$ orbit\", color = \"blue\")\n",
    "plt.plot(R2[:,0], R2[:,1], label = r\"$m_2$ orbit\", color = \"green\")\n",
    "plt.plot(R3[:,0], R3[:,1], label = r\"$m_3$ orbit\", color = \"blue\")\n",
    "\n",
    "\n",
    "plt.plot(R0[0,0], R0[0,1], 'bo', label = r\"$m_0$\", color = \"orange\")\n",
    "plt.plot(R1[0,0], R1[0,1], 'bo', label = r\"$m_1$\", color = \"blue\")\n",
    "plt.plot(R2[0,0], R2[0,1], 'bo', label = r\"$m_2$\", color = \"green\")\n",
    "plt.plot(R3[0,0], R3[0,1], 'bo', label = r\"$m_3$\", color = \"blue\")\n",
    "\n",
    "plt.xlabel(\"x\")\n",
    "plt.ylabel(\"y\")\n",
    "plt.legend(loc = 'upper right')\n",
    " "
   ]
  },
  {
   "cell_type": "code",
   "execution_count": null,
   "id": "685f4a02",
   "metadata": {},
   "outputs": [],
   "source": []
  }
 ],
 "metadata": {
  "kernelspec": {
   "display_name": "Python 3",
   "language": "python",
   "name": "python3"
  },
  "language_info": {
   "codemirror_mode": {
    "name": "ipython",
    "version": 3
   },
   "file_extension": ".py",
   "mimetype": "text/x-python",
   "name": "python",
   "nbconvert_exporter": "python",
   "pygments_lexer": "ipython3",
   "version": "3.8.8"
  }
 },
 "nbformat": 4,
 "nbformat_minor": 5
}
