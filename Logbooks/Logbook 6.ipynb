{
 "cells": [
  {
   "cell_type": "code",
   "execution_count": 1,
   "id": "e90dc59c",
   "metadata": {},
   "outputs": [],
   "source": [
    "import numpy as np\n",
    "import matplotlib.pyplot as plt"
   ]
  },
  {
   "cell_type": "markdown",
   "id": "8109eee0",
   "metadata": {},
   "source": [
    "# Logbook 6\n",
    "\n",
    "## Lagrangian Points (10/03/2023)\n",
    "\n",
    "A series of [animations](http://burtleburtle.net/bob/physics/kempler.html) have been made to show some various Klemperer Rosettes, sadly these are written in Javascript which is unintelligible for me, but they provide a good basis for what I should expect to see.\n",
    "\n",
    "The first animation, while still being a Klemperer rosette (due to the alternating masses), is also a demonstration of what are called Lagrangian points, which are points for where the gravitational forces acting on the small bodies are in equilibrium, such that there is no net force acting on the moons. \n",
    "\n",
    "For this situation, we have two moons, a single smaller moon, and a star. The smaller ones are at the Lagrangian points of the big moon - star situation.\n",
    "\n",
    "According to this [video](https://youtu.be/XRlQtDimEws), we can calculate the lagrangian points L4 and L5 using some basic mechanics, leading to us finding that the Lagrangian points L4 and L5 sit at the corners of equilateral triangles that are formed by m1 and m2."
   ]
  },
  {
   "cell_type": "code",
   "execution_count": 57,
   "id": "e5774511",
   "metadata": {},
   "outputs": [],
   "source": [
    "def L4(G, m1, m2, vr1, vr2):\n",
    "    \"\"\"\n",
    "    Determines the Lagrangian point L4 for a two bodies, m1 and m2, in which m1>>m2. The net force acting on a body at its\n",
    "    Lagrangian point is zero, and so it would take zero energy to stay at that point. \n",
    "    \n",
    "    Inputs:\n",
    "    G     The gravitational constant\n",
    "    m1    The mass of the first body\n",
    "    m2    The mass of the second body\n",
    "    vr1   The vector position of mass 1\n",
    "    vr2   The vector position of mass 2\n",
    "    \n",
    "    Outputs\n",
    "    rt    The vector position of the Lagrangian point L4\n",
    "    \"\"\"\n",
    "    \n",
    "    R = np.linalg.norm(vr2-vr1)\n",
    "    theta = np.pi/3\n",
    "    vR=R*np.array([np.cos(theta),np.sin(theta)])\n",
    "    rt=vr1+vR\n",
    "    \n",
    "    return(rt)\n",
    "\n",
    "def L5(G, m1, m2, vr1, vr2):\n",
    "    \"\"\"\n",
    "    Determines the Lagrangian point L5 for a two bodies, m1 and m2, in which m1>>m2. The net force acting on a body at its\n",
    "    Lagrangian point is zero, and so it would take zero energy to stay at that point. \n",
    "    \n",
    "    Inputs:\n",
    "    G     The gravitational constant\n",
    "    m1    The mass of the first body\n",
    "    m2    The mass of the second body\n",
    "    vr1   The vector position of mass 1\n",
    "    vr2   The vector position of mass 2\n",
    "    \n",
    "    Outputs\n",
    "    rt    The vector position of the Lagrangian point L5\n",
    "    \"\"\"\n",
    "\n",
    "    R = np.linalg.norm(vr2-vr1)\n",
    "    theta = -np.pi/3\n",
    "    vR=R*np.array([np.cos(theta),np.sin(theta)])\n",
    "    rt=vr1+vR\n",
    "    \n",
    "    return(rt)"
   ]
  },
  {
   "cell_type": "code",
   "execution_count": 58,
   "id": "b1d33839",
   "metadata": {},
   "outputs": [
    {
     "name": "stdout",
     "output_type": "stream",
     "text": [
      "Lagrangian points L4 and L5 are \n",
      " [7.49992500e+10 1.29903811e+11]\n",
      " and \n",
      "[ 7.49992500e+10 -1.29903811e+11]\n"
     ]
    }
   ],
   "source": [
    "# The parameters they used are\n",
    "G = 6.67e-11\n",
    "m1 = 2e30 # Mass of sun\n",
    "m2 = 1e25 # Mass of earth \n",
    "R = 1.5e11 # distance from Earth to Sun\n",
    "\n",
    "r1 = m2*R/(m1+m2)\n",
    "r2 = m1*R/(m1+m2)\n",
    "\n",
    "v1 = np.sqrt(G*m2*r1/R**2)\n",
    "v2 = np.sqrt(G*m1*r2/R**2)\n",
    "\n",
    "Lagrangian4 = L4(G, m1, m2, np.array([-r1,0]), np.array([r2,0]))\n",
    "Lagrangian5 = L5(G, m1, m2, np.array([-r1,0]), np.array([r2,0]))\n",
    "print(f\"Lagrangian points L4 and L5 are \\n {Lagrangian4}\\n and \\n{Lagrangian5}\")\n"
   ]
  },
  {
   "cell_type": "code",
   "execution_count": 59,
   "id": "661972a6",
   "metadata": {},
   "outputs": [
    {
     "data": {
      "text/plain": [
       "<matplotlib.legend.Legend at 0x1d02f4dd730>"
      ]
     },
     "execution_count": 59,
     "metadata": {},
     "output_type": "execute_result"
    },
    {
     "data": {
      "image/png": "[encoded data removed]",
      "text/plain": [
       "<Figure size 432x288 with 1 Axes>"
      ]
     },
     "metadata": {
      "needs_background": "light"
     },
     "output_type": "display_data"
    }
   ],
   "source": [
    "plt.plot(Lagrangian4[0], Lagrangian4[1], 'bo', label = \"L4\", color = \"blue\")\n",
    "plt.plot(Lagrangian5[0], Lagrangian5[1], 'bo', label = \"L5\", color = \"magenta\")\n",
    "plt.plot(-r1, 0, 'bo', label = \"m1\", color = \"orange\")\n",
    "plt.plot(r2, 0, 'bo', label = \"m2\", color = \"Green\")\n",
    "plt.legend()"
   ]
  },
  {
   "cell_type": "markdown",
   "id": "ae0c0806",
   "metadata": {},
   "source": [
    "## Propagating the orbits.\n",
    "\n",
    "So, if we were to place two objects at L4 and L5, supposedly, they should feel zero net force. Let's try and implement this using our Velocity Verlet algorithm."
   ]
  },
  {
   "cell_type": "code",
   "execution_count": 69,
   "id": "e917f68e",
   "metadata": {},
   "outputs": [
    {
     "name": "stdout",
     "output_type": "stream",
     "text": [
      "So m3 and m4 should be at positions \n",
      " [4.9999     8.66025404] \n",
      " and \n",
      " [ 4.9999     -8.66025404]\n"
     ]
    },
    {
     "data": {
      "text/plain": [
       "(-11.0, 11.0)"
      ]
     },
     "execution_count": 69,
     "metadata": {},
     "output_type": "execute_result"
    },
    {
     "data": {
      "image/png": "[encoded data removed]",
      "text/plain": [
       "<Figure size 432x288 with 1 Axes>"
      ]
     },
     "metadata": {
      "needs_background": "light"
     },
     "output_type": "display_data"
    }
   ],
   "source": [
    "# Parameters\n",
    "\n",
    "N = 120000 # number of steps\n",
    "\n",
    "G = 1\n",
    "m1 = 1 # Mass of sun\n",
    "m2 = 1e-5 # Mass of earth \n",
    "m3 = 1e-8 # Mass of the moon\n",
    "m4 = np.copy(m3)\n",
    "\n",
    "\n",
    "R = 10 # distance from Earth to Sun\n",
    "\n",
    "r1 = m2*R/(m1+m2)\n",
    "r2 = m1*R/(m1+m2)\n",
    "\n",
    "\n",
    "\n",
    "R1 = np.zeros((N,2))\n",
    "R2 = np.zeros((N,2))\n",
    "R3 = np.zeros((N,2))\n",
    "R4 = np.zeros((N,2))\n",
    "\n",
    "R1[0] = np.array([-r1,0])\n",
    "R2[0] = np.array([r2,0])\n",
    "\n",
    "Lagrangian4 = L4(G, m1, m2, R1[0], R2[0])\n",
    "Lagrangian5 = L5(G, m1, m2, R1[0], R2[0])\n",
    "\n",
    "print(f\"So m3 and m4 should be at positions \\n {Lagrangian4} \\n and \\n {Lagrangian5}\")\n",
    "\n",
    "R3[0] = np.copy(Lagrangian4)\n",
    "R4[0] = np.copy(Lagrangian5)\n",
    "\n",
    "\n",
    "\n",
    "v1 = np.sqrt(G*m2*r1/R**2)\n",
    "v2 = np.sqrt(G*m1*r2/R**2)\n",
    "\n",
    "V1 = np.zeros((N,2))\n",
    "V2 = np.zeros((N,2))\n",
    "V3 = np.zeros((N,2))\n",
    "V4 = np.zeros((N,2))\n",
    "\n",
    "V1[0] = np.array([v1,0])\n",
    "V2[0] = np.array([0,-v2])\n",
    "\n",
    "w = v2 / r2 # All have the same angular speed\n",
    "\n",
    "\n",
    "r3 = np.linalg.norm(Lagrangian4)\n",
    "r4 = np.linalg.norm(Lagrangian5)\n",
    "\n",
    "v3 = w * r3\n",
    "v4 = w * r4\n",
    "\n",
    "V3[0] = np.array([0, -v3])\n",
    "V4[0] = np.array([0, -v4])\n",
    "\n",
    "plt.plot(R1[0,0], R1[0,1], 'bo', color = \"Orange\", markersize=30, label = r\"$m_1$\")\n",
    "plt.plot(R2[0,0], R2[0,1], 'bo', color = \"Red\", markersize=15, label = r\"$m_2$\")\n",
    "plt.plot(R3[0,0], R3[0,1], 'bo', color = \"Blue\", markersize=10, label = r\"$m_3$\")\n",
    "plt.plot(R4[0,0], R4[0,1], 'bo', color = \"Magenta\", markersize=10, label = r\"$m_4$\")\n",
    "\n",
    "\n",
    "plt.title(r\"Initial positions of $m_1$, $m_2$, $m_3$, $m_4$\")\n",
    "plt.xlabel(r\"x\")\n",
    "plt.ylabel(r\"y\")\n",
    "plt.xlim(-1.1*R, 1.1*R)\n",
    "plt.ylim(-1.1*R, 1.1*R)"
   ]
  },
  {
   "cell_type": "code",
   "execution_count": 70,
   "id": "bf5cfae0",
   "metadata": {},
   "outputs": [],
   "source": [
    "def force(G, m1, m2, r1, r2):\n",
    "    \"\"\"\n",
    "    Returns the force acting on m1 due to m2\n",
    "    inputs:\n",
    "    G     gravitational constant\n",
    "    m1    mass of body 1\n",
    "    m2    mass of body 2\n",
    "    r1    radius of body 1\n",
    "    r2    radius of body 2\n",
    "    outputs:\n",
    "    f     the force acting on m1 due to m2  \n",
    "    \"\"\"\n",
    "    \n",
    "    r_12 = r2 - r1\n",
    "    r_12_mag = np.linalg.norm(r_12) ** 3\n",
    "    f = G * (m1 * m2 * r_12) / r_12_mag\n",
    "    return f"
   ]
  },
  {
   "cell_type": "code",
   "execution_count": 71,
   "id": "6f1771e2",
   "metadata": {},
   "outputs": [
    {
     "name": "stderr",
     "output_type": "stream",
     "text": [
      "<ipython-input-70-11300aec8f3a>:18: RuntimeWarning: invalid value encountered in true_divide\n",
      "  f = G * (m1 * m2 * r_12) / r_12_mag\n"
     ]
    },
    {
     "name": "stdout",
     "output_type": "stream",
     "text": [
      "Wall time: 26.9 s\n"
     ]
    }
   ],
   "source": [
    "%%time\n",
    "\n",
    "dt = 1e-4\n",
    "\n",
    "for i in range(N - 1):\n",
    "    \n",
    "    f1 = force(G, m1, m2, R1[i], R2[i]) # negligble + force(m1, m3, R1[i], R3[i]) + force(m1, m4, R1[i], R4[i])\n",
    "    f2 = force(G, m2, m1, R2[i], R1[i]) # + force(m2, m3, R2[i], R3[i]) + force(m2, m4, R2[i], R4[i])\n",
    "    f3 = force(G, m3, m1, R3[i], R1[i]) + force(G, m3, m2, R3[i], R2[i]) # + force(m3, m4, R3[i], R4[i])\n",
    "    f4 = force(G, m4, m1, R1[i], R4[i]) + force(G, m4, m2, R4[i], R2[i]) # + force(m4, m3, R4[i], R3[i])\n",
    "    \n",
    "    F1 = force(G, m1, m2, R1[i+1], R2[i+1]) # + force(m1, m3, R1[i+1], R3[i+1]) + force(m1, m4, R1[i+1], R4[i+1])\n",
    "    F2 = force(G, m2, m1, R2[i+1], R1[i+1]) # + force(m2, m3, R2[i+1], R3[i+1]) + force(m2, m4, R2[i+1], R4[i+1])\n",
    "    F3 = force(G, m3, m1, R3[i+1], R1[i+1])  + force(G, m3, m2, R3[i+1], R2[i+1]) #+ force(m3, m4, R3[i+1], R4[i+1])\n",
    "    F4 = force(G, m4, m1, R1[i+1], R4[i+1])  + force(G, m4, m2, R4[i+1], R2[i+1]) #+ force(m4, m3, R4[i+1], R3[i+1])\n",
    "    \n",
    "    \n",
    "    R1[i+1] = R1[i] + dt * V1[i] + dt**2 * f1/(2*m1)\n",
    "    R2[i+1] = R2[i] + dt * V2[i] + dt**2 * f2/(2*m2)\n",
    "    R3[i+1] = R3[i] + dt * V3[i] + dt**2 * f3/(2*m3)\n",
    "    R4[i+1] = R4[i] + dt * V3[i] + dt**2 * f4/(2*m4)\n",
    "    \n",
    "    \n",
    "    V1[i+1] = V1[i] + dt * (f1 + F1) / (2*m1)\n",
    "    V2[i+1] = V2[i] + dt * (f2 + F2) / (2*m2)\n",
    "    V3[i+1] = V3[i] + dt * (f1 + F1) / (2*m3)\n",
    "    V4[i+1] = V4[i] + dt * (f1 + F1) / (2*m4)"
   ]
  },
  {
   "cell_type": "code",
   "execution_count": 72,
   "id": "f7c47344",
   "metadata": {},
   "outputs": [
    {
     "name": "stdout",
     "output_type": "stream",
     "text": [
      "[[-9.99990000e-05  0.00000000e+00]\n",
      " [-9.99986838e-05  0.00000000e+00]\n",
      " [            nan             nan]\n",
      " ...\n",
      " [            nan             nan]\n",
      " [            nan             nan]\n",
      " [            nan             nan]]\n",
      "[[ 9.99990000e+00  0.00000000e+00]\n",
      " [ 9.99990000e+00 -3.16226185e-05]\n",
      " [            nan             nan]\n",
      " ...\n",
      " [            nan             nan]\n",
      " [            nan             nan]\n",
      " [            nan             nan]]\n",
      "[[4.9999     8.66025404]\n",
      " [4.9999     8.66022242]\n",
      " [       nan        nan]\n",
      " ...\n",
      " [       nan        nan]\n",
      " [       nan        nan]\n",
      " [       nan        nan]]\n",
      "[[ 4.9999     -8.66025404]\n",
      " [ 4.9999     -8.66028566]\n",
      " [        nan         nan]\n",
      " ...\n",
      " [        nan         nan]\n",
      " [        nan         nan]\n",
      " [        nan         nan]]\n"
     ]
    }
   ],
   "source": [
    "print(R1)\n",
    "print(R2)\n",
    "print(R3)\n",
    "print(R4)"
   ]
  },
  {
   "cell_type": "code",
   "execution_count": 73,
   "id": "274d7d26",
   "metadata": {},
   "outputs": [
    {
     "data": {
      "text/plain": [
       "<matplotlib.legend.Legend at 0x1d0300039a0>"
      ]
     },
     "execution_count": 73,
     "metadata": {},
     "output_type": "execute_result"
    },
    {
     "data": {
      "image/png": "[encoded data removed]",
      "text/plain": [
       "<Figure size 720x720 with 1 Axes>"
      ]
     },
     "metadata": {
      "needs_background": "light"
     },
     "output_type": "display_data"
    }
   ],
   "source": [
    "plt.figure(figsize = (10,10))\n",
    "\n",
    "plt.plot(R1[:,0], R1[:,1], label = r\"$m_1$ orbit\", color = 'orange')\n",
    "plt.plot(R2[:,0], R2[:,1], label = r\"$m_2$ orbit\", color = 'blue')\n",
    "plt.plot(R3[:,0], R3[:,1], label = r\"$m_3$ orbit\", color = 'red')\n",
    "plt.plot(R4[:,0], R4[:,1], label = r\"$m_4$ orbit\", color = 'red')\n",
    "\n",
    "\n",
    "plt.xlabel(\"x\")\n",
    "plt.ylabel(\"y\")\n",
    "plt.title(\"Orbit of a three body system\")\n",
    "plt.legend(loc = 'upper right')\n",
    "\n",
    "# If you set %matplotlib notebook you can zoom in and see that m_3 spirals around m_2."
   ]
  },
  {
   "cell_type": "code",
   "execution_count": null,
   "id": "d9bc8346",
   "metadata": {},
   "outputs": [],
   "source": []
  },
  {
   "cell_type": "code",
   "execution_count": null,
   "id": "82355058",
   "metadata": {},
   "outputs": [],
   "source": []
  }
 ],
 "metadata": {
  "kernelspec": {
   "display_name": "Python 3",
   "language": "python",
   "name": "python3"
  },
  "language_info": {
   "codemirror_mode": {
    "name": "ipython",
    "version": 3
   },
   "file_extension": ".py",
   "mimetype": "text/x-python",
   "name": "python",
   "nbconvert_exporter": "python",
   "pygments_lexer": "ipython3",
   "version": "3.8.8"
  }
 },
 "nbformat": 4,
 "nbformat_minor": 5
}
