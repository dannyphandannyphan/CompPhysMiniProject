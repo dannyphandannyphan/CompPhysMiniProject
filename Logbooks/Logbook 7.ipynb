{
 "cells": [
  {
   "cell_type": "code",
   "execution_count": 1,
   "id": "07685562",
   "metadata": {},
   "outputs": [],
   "source": [
    "import numpy as np\n",
    "import matplotlib.pyplot as plt\n",
    "%matplotlib inline"
   ]
  },
  {
   "cell_type": "markdown",
   "id": "bdceeda5",
   "metadata": {},
   "source": [
    "# Logbook 7\n",
    "\n",
    "## The 6 body Hexagonal Klemperer Rosette\n",
    "\n",
    "Now that I have equipped myself with an N-body Verlet integrator function, as well as the correct initial positions, I will now attempt to place 6 alternating bodies in a Hexagonal Klemperer Rosette."
   ]
  },
  {
   "cell_type": "code",
   "execution_count": null,
   "id": "b9a99e24",
   "metadata": {},
   "outputs": [],
   "source": []
  }
 ],
 "metadata": {
  "kernelspec": {
   "display_name": "Python 3 (ipykernel)",
   "language": "python",
   "name": "python3"
  },
  "language_info": {
   "codemirror_mode": {
    "name": "ipython",
    "version": 3
   },
   "file_extension": ".py",
   "mimetype": "text/x-python",
   "name": "python",
   "nbconvert_exporter": "python",
   "pygments_lexer": "ipython3",
   "version": "3.9.12"
  }
 },
 "nbformat": 4,
 "nbformat_minor": 5
}
